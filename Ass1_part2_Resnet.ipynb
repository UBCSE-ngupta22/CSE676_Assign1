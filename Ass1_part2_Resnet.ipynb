{
 "cells": [
  {
   "cell_type": "code",
   "execution_count": 1,
   "id": "a65dbfe7-9558-40bb-ac30-34e049810757",
   "metadata": {},
   "outputs": [
    {
     "name": "stdout",
     "output_type": "stream",
     "text": [
      "Requirement already satisfied: matplotlib in c:\\users\\krishna chavan\\appdata\\local\\programs\\python\\python312\\lib\\site-packages (3.8.3)"
     ]
    },
    {
     "name": "stderr",
     "output_type": "stream",
     "text": [
      "\n",
      "[notice] A new release of pip is available: 23.2.1 -> 24.0\n",
      "[notice] To update, run: python.exe -m pip install --upgrade pip\n"
     ]
    },
    {
     "name": "stdout",
     "output_type": "stream",
     "text": [
      "\n",
      "Requirement already satisfied: contourpy>=1.0.1 in c:\\users\\krishna chavan\\appdata\\local\\programs\\python\\python312\\lib\\site-packages (from matplotlib) (1.2.0)\n",
      "Requirement already satisfied: cycler>=0.10 in c:\\users\\krishna chavan\\appdata\\local\\programs\\python\\python312\\lib\\site-packages (from matplotlib) (0.12.1)\n",
      "Requirement already satisfied: fonttools>=4.22.0 in c:\\users\\krishna chavan\\appdata\\local\\programs\\python\\python312\\lib\\site-packages (from matplotlib) (4.49.0)\n",
      "Requirement already satisfied: kiwisolver>=1.3.1 in c:\\users\\krishna chavan\\appdata\\local\\programs\\python\\python312\\lib\\site-packages (from matplotlib) (1.4.5)\n",
      "Requirement already satisfied: numpy<2,>=1.21 in c:\\users\\krishna chavan\\appdata\\local\\programs\\python\\python312\\lib\\site-packages (from matplotlib) (1.26.3)\n",
      "Requirement already satisfied: packaging>=20.0 in c:\\users\\krishna chavan\\appdata\\local\\programs\\python\\python312\\lib\\site-packages (from matplotlib) (23.2)\n",
      "Requirement already satisfied: pillow>=8 in c:\\users\\krishna chavan\\appdata\\local\\programs\\python\\python312\\lib\\site-packages (from matplotlib) (10.2.0)\n",
      "Requirement already satisfied: pyparsing>=2.3.1 in c:\\users\\krishna chavan\\appdata\\local\\programs\\python\\python312\\lib\\site-packages (from matplotlib) (3.1.1)\n",
      "Requirement already satisfied: python-dateutil>=2.7 in c:\\users\\krishna chavan\\appdata\\local\\programs\\python\\python312\\lib\\site-packages (from matplotlib) (2.8.2)\n",
      "Requirement already satisfied: six>=1.5 in c:\\users\\krishna chavan\\appdata\\local\\programs\\python\\python312\\lib\\site-packages (from python-dateutil>=2.7->matplotlib) (1.16.0)\n",
      "Requirement already satisfied: numpy in c:\\users\\krishna chavan\\appdata\\local\\programs\\python\\python312\\lib\\site-packages (1.26.3)\n"
     ]
    },
    {
     "name": "stderr",
     "output_type": "stream",
     "text": [
      "\n",
      "[notice] A new release of pip is available: 23.2.1 -> 24.0\n",
      "[notice] To update, run: python.exe -m pip install --upgrade pip\n"
     ]
    },
    {
     "name": "stdout",
     "output_type": "stream",
     "text": [
      "Requirement already satisfied: pandas in c:\\users\\krishna chavan\\appdata\\local\\programs\\python\\python312\\lib\\site-packages (2.2.0)\n",
      "Requirement already satisfied: numpy<2,>=1.26.0 in c:\\users\\krishna chavan\\appdata\\local\\programs\\python\\python312\\lib\\site-packages (from pandas) (1.26.3)\n",
      "Requirement already satisfied: python-dateutil>=2.8.2 in c:\\users\\krishna chavan\\appdata\\local\\programs\\python\\python312\\lib\\site-packages (from pandas) (2.8.2)\n",
      "Requirement already satisfied: pytz>=2020.1 in c:\\users\\krishna chavan\\appdata\\local\\programs\\python\\python312\\lib\\site-packages (from pandas) (2024.1)\n",
      "Requirement already satisfied: tzdata>=2022.7 in c:\\users\\krishna chavan\\appdata\\local\\programs\\python\\python312\\lib\\site-packages (from pandas) (2024.1)\n",
      "Requirement already satisfied: six>=1.5 in c:\\users\\krishna chavan\\appdata\\local\\programs\\python\\python312\\lib\\site-packages (from python-dateutil>=2.8.2->pandas) (1.16.0)\n"
     ]
    },
    {
     "name": "stderr",
     "output_type": "stream",
     "text": [
      "\n",
      "[notice] A new release of pip is available: 23.2.1 -> 24.0\n",
      "[notice] To update, run: python.exe -m pip install --upgrade pip\n"
     ]
    },
    {
     "name": "stdout",
     "output_type": "stream",
     "text": [
      "Requirement already satisfied: seaborn in c:\\users\\krishna chavan\\appdata\\local\\programs\\python\\python312\\lib\\site-packages (0.13.2)"
     ]
    },
    {
     "name": "stderr",
     "output_type": "stream",
     "text": [
      "\n",
      "[notice] A new release of pip is available: 23.2.1 -> 24.0\n",
      "[notice] To update, run: python.exe -m pip install --upgrade pip\n"
     ]
    },
    {
     "name": "stdout",
     "output_type": "stream",
     "text": [
      "\n",
      "Requirement already satisfied: numpy!=1.24.0,>=1.20 in c:\\users\\krishna chavan\\appdata\\local\\programs\\python\\python312\\lib\\site-packages (from seaborn) (1.26.3)\n",
      "Requirement already satisfied: pandas>=1.2 in c:\\users\\krishna chavan\\appdata\\local\\programs\\python\\python312\\lib\\site-packages (from seaborn) (2.2.0)\n",
      "Requirement already satisfied: matplotlib!=3.6.1,>=3.4 in c:\\users\\krishna chavan\\appdata\\local\\programs\\python\\python312\\lib\\site-packages (from seaborn) (3.8.3)\n",
      "Requirement already satisfied: contourpy>=1.0.1 in c:\\users\\krishna chavan\\appdata\\local\\programs\\python\\python312\\lib\\site-packages (from matplotlib!=3.6.1,>=3.4->seaborn) (1.2.0)\n",
      "Requirement already satisfied: cycler>=0.10 in c:\\users\\krishna chavan\\appdata\\local\\programs\\python\\python312\\lib\\site-packages (from matplotlib!=3.6.1,>=3.4->seaborn) (0.12.1)\n",
      "Requirement already satisfied: fonttools>=4.22.0 in c:\\users\\krishna chavan\\appdata\\local\\programs\\python\\python312\\lib\\site-packages (from matplotlib!=3.6.1,>=3.4->seaborn) (4.49.0)\n",
      "Requirement already satisfied: kiwisolver>=1.3.1 in c:\\users\\krishna chavan\\appdata\\local\\programs\\python\\python312\\lib\\site-packages (from matplotlib!=3.6.1,>=3.4->seaborn) (1.4.5)\n",
      "Requirement already satisfied: packaging>=20.0 in c:\\users\\krishna chavan\\appdata\\local\\programs\\python\\python312\\lib\\site-packages (from matplotlib!=3.6.1,>=3.4->seaborn) (23.2)\n",
      "Requirement already satisfied: pillow>=8 in c:\\users\\krishna chavan\\appdata\\local\\programs\\python\\python312\\lib\\site-packages (from matplotlib!=3.6.1,>=3.4->seaborn) (10.2.0)\n",
      "Requirement already satisfied: pyparsing>=2.3.1 in c:\\users\\krishna chavan\\appdata\\local\\programs\\python\\python312\\lib\\site-packages (from matplotlib!=3.6.1,>=3.4->seaborn) (3.1.1)\n",
      "Requirement already satisfied: python-dateutil>=2.7 in c:\\users\\krishna chavan\\appdata\\local\\programs\\python\\python312\\lib\\site-packages (from matplotlib!=3.6.1,>=3.4->seaborn) (2.8.2)\n",
      "Requirement already satisfied: pytz>=2020.1 in c:\\users\\krishna chavan\\appdata\\local\\programs\\python\\python312\\lib\\site-packages (from pandas>=1.2->seaborn) (2024.1)\n",
      "Requirement already satisfied: tzdata>=2022.7 in c:\\users\\krishna chavan\\appdata\\local\\programs\\python\\python312\\lib\\site-packages (from pandas>=1.2->seaborn) (2024.1)\n",
      "Requirement already satisfied: six>=1.5 in c:\\users\\krishna chavan\\appdata\\local\\programs\\python\\python312\\lib\\site-packages (from python-dateutil>=2.7->matplotlib!=3.6.1,>=3.4->seaborn) (1.16.0)\n",
      "Requirement already satisfied: torch in c:\\users\\krishna chavan\\appdata\\local\\programs\\python\\python312\\lib\\site-packages (2.2.0)\n",
      "Requirement already satisfied: filelock in c:\\users\\krishna chavan\\appdata\\local\\programs\\python\\python312\\lib\\site-packages (from torch) (3.13.1)\n",
      "Requirement already satisfied: typing-extensions>=4.8.0 in c:\\users\\krishna chavan\\appdata\\local\\programs\\python\\python312\\lib\\site-packages (from torch) (4.9.0)\n",
      "Requirement already satisfied: sympy in c:\\users\\krishna chavan\\appdata\\local\\programs\\python\\python312\\lib\\site-packages (from torch) (1.12)\n",
      "Requirement already satisfied: networkx in c:\\users\\krishna chavan\\appdata\\local\\programs\\python\\python312\\lib\\site-packages (from torch) (3.2.1)\n",
      "Requirement already satisfied: jinja2 in c:\\users\\krishna chavan\\appdata\\local\\programs\\python\\python312\\lib\\site-packages (from torch) (3.1.3)\n",
      "Requirement already satisfied: fsspec in c:\\users\\krishna chavan\\appdata\\local\\programs\\python\\python312\\lib\\site-packages (from torch) (2023.12.2)\n",
      "Requirement already satisfied: MarkupSafe>=2.0 in c:\\users\\krishna chavan\\appdata\\local\\programs\\python\\python312\\lib\\site-packages (from jinja2->torch) (2.1.4)\n",
      "Requirement already satisfied: mpmath>=0.19 in c:\\users\\krishna chavan\\appdata\\local\\programs\\python\\python312\\lib\\site-packages (from sympy->torch) (1.3.0)\n"
     ]
    },
    {
     "name": "stderr",
     "output_type": "stream",
     "text": [
      "\n",
      "[notice] A new release of pip is available: 23.2.1 -> 24.0\n",
      "[notice] To update, run: python.exe -m pip install --upgrade pip\n"
     ]
    },
    {
     "name": "stdout",
     "output_type": "stream",
     "text": [
      "Requirement already satisfied: torchvision in c:\\users\\krishna chavan\\appdata\\local\\programs\\python\\python312\\lib\\site-packages (0.17.0)"
     ]
    },
    {
     "name": "stderr",
     "output_type": "stream",
     "text": [
      "\n",
      "[notice] A new release of pip is available: 23.2.1 -> 24.0\n",
      "[notice] To update, run: python.exe -m pip install --upgrade pip\n"
     ]
    },
    {
     "name": "stdout",
     "output_type": "stream",
     "text": [
      "\n",
      "Requirement already satisfied: numpy in c:\\users\\krishna chavan\\appdata\\local\\programs\\python\\python312\\lib\\site-packages (from torchvision) (1.26.3)\n",
      "Requirement already satisfied: requests in c:\\users\\krishna chavan\\appdata\\local\\programs\\python\\python312\\lib\\site-packages (from torchvision) (2.31.0)\n",
      "Requirement already satisfied: torch==2.2.0 in c:\\users\\krishna chavan\\appdata\\local\\programs\\python\\python312\\lib\\site-packages (from torchvision) (2.2.0)\n",
      "Requirement already satisfied: pillow!=8.3.*,>=5.3.0 in c:\\users\\krishna chavan\\appdata\\local\\programs\\python\\python312\\lib\\site-packages (from torchvision) (10.2.0)\n",
      "Requirement already satisfied: filelock in c:\\users\\krishna chavan\\appdata\\local\\programs\\python\\python312\\lib\\site-packages (from torch==2.2.0->torchvision) (3.13.1)\n",
      "Requirement already satisfied: typing-extensions>=4.8.0 in c:\\users\\krishna chavan\\appdata\\local\\programs\\python\\python312\\lib\\site-packages (from torch==2.2.0->torchvision) (4.9.0)\n",
      "Requirement already satisfied: sympy in c:\\users\\krishna chavan\\appdata\\local\\programs\\python\\python312\\lib\\site-packages (from torch==2.2.0->torchvision) (1.12)\n",
      "Requirement already satisfied: networkx in c:\\users\\krishna chavan\\appdata\\local\\programs\\python\\python312\\lib\\site-packages (from torch==2.2.0->torchvision) (3.2.1)\n",
      "Requirement already satisfied: jinja2 in c:\\users\\krishna chavan\\appdata\\local\\programs\\python\\python312\\lib\\site-packages (from torch==2.2.0->torchvision) (3.1.3)\n",
      "Requirement already satisfied: fsspec in c:\\users\\krishna chavan\\appdata\\local\\programs\\python\\python312\\lib\\site-packages (from torch==2.2.0->torchvision) (2023.12.2)\n",
      "Requirement already satisfied: charset-normalizer<4,>=2 in c:\\users\\krishna chavan\\appdata\\local\\programs\\python\\python312\\lib\\site-packages (from requests->torchvision) (3.3.2)\n",
      "Requirement already satisfied: idna<4,>=2.5 in c:\\users\\krishna chavan\\appdata\\local\\programs\\python\\python312\\lib\\site-packages (from requests->torchvision) (3.6)\n",
      "Requirement already satisfied: urllib3<3,>=1.21.1 in c:\\users\\krishna chavan\\appdata\\local\\programs\\python\\python312\\lib\\site-packages (from requests->torchvision) (2.1.0)\n",
      "Requirement already satisfied: certifi>=2017.4.17 in c:\\users\\krishna chavan\\appdata\\local\\programs\\python\\python312\\lib\\site-packages (from requests->torchvision) (2023.11.17)\n",
      "Requirement already satisfied: MarkupSafe>=2.0 in c:\\users\\krishna chavan\\appdata\\local\\programs\\python\\python312\\lib\\site-packages (from jinja2->torch==2.2.0->torchvision) (2.1.4)\n",
      "Requirement already satisfied: mpmath>=0.19 in c:\\users\\krishna chavan\\appdata\\local\\programs\\python\\python312\\lib\\site-packages (from sympy->torch==2.2.0->torchvision) (1.3.0)\n",
      "Requirement already satisfied: torchinfo in c:\\users\\krishna chavan\\appdata\\local\\programs\\python\\python312\\lib\\site-packages (1.8.0)\n"
     ]
    },
    {
     "name": "stderr",
     "output_type": "stream",
     "text": [
      "\n",
      "[notice] A new release of pip is available: 23.2.1 -> 24.0\n",
      "[notice] To update, run: python.exe -m pip install --upgrade pip\n"
     ]
    },
    {
     "name": "stdout",
     "output_type": "stream",
     "text": [
      "Requirement already satisfied: torchmetrics in c:\\users\\krishna chavan\\appdata\\local\\programs\\python\\python312\\lib\\site-packages (1.3.0.post0)\n",
      "Requirement already satisfied: numpy>1.20.0 in c:\\users\\krishna chavan\\appdata\\local\\programs\\python\\python312\\lib\\site-packages (from torchmetrics) (1.26.3)\n",
      "Requirement already satisfied: packaging>17.1 in c:\\users\\krishna chavan\\appdata\\local\\programs\\python\\python312\\lib\\site-packages (from torchmetrics) (23.2)\n",
      "Requirement already satisfied: torch>=1.10.0 in c:\\users\\krishna chavan\\appdata\\local\\programs\\python\\python312\\lib\\site-packages (from torchmetrics) (2.2.0)\n",
      "Requirement already satisfied: lightning-utilities>=0.8.0 in c:\\users\\krishna chavan\\appdata\\local\\programs\\python\\python312\\lib\\site-packages (from torchmetrics) (0.10.1)\n",
      "Requirement already satisfied: setuptools in c:\\users\\krishna chavan\\appdata\\local\\programs\\python\\python312\\lib\\site-packages (from lightning-utilities>=0.8.0->torchmetrics) (69.0.3)\n",
      "Requirement already satisfied: typing-extensions in c:\\users\\krishna chavan\\appdata\\local\\programs\\python\\python312\\lib\\site-packages (from lightning-utilities>=0.8.0->torchmetrics) (4.9.0)\n",
      "Requirement already satisfied: filelock in c:\\users\\krishna chavan\\appdata\\local\\programs\\python\\python312\\lib\\site-packages (from torch>=1.10.0->torchmetrics) (3.13.1)\n",
      "Requirement already satisfied: sympy in c:\\users\\krishna chavan\\appdata\\local\\programs\\python\\python312\\lib\\site-packages (from torch>=1.10.0->torchmetrics) (1.12)\n",
      "Requirement already satisfied: networkx in c:\\users\\krishna chavan\\appdata\\local\\programs\\python\\python312\\lib\\site-packages (from torch>=1.10.0->torchmetrics) (3.2.1)\n",
      "Requirement already satisfied: jinja2 in c:\\users\\krishna chavan\\appdata\\local\\programs\\python\\python312\\lib\\site-packages (from torch>=1.10.0->torchmetrics) (3.1.3)\n",
      "Requirement already satisfied: fsspec in c:\\users\\krishna chavan\\appdata\\local\\programs\\python\\python312\\lib\\site-packages (from torch>=1.10.0->torchmetrics) (2023.12.2)\n",
      "Requirement already satisfied: MarkupSafe>=2.0 in c:\\users\\krishna chavan\\appdata\\local\\programs\\python\\python312\\lib\\site-packages (from jinja2->torch>=1.10.0->torchmetrics) (2.1.4)\n",
      "Requirement already satisfied: mpmath>=0.19 in c:\\users\\krishna chavan\\appdata\\local\\programs\\python\\python312\\lib\\site-packages (from sympy->torch>=1.10.0->torchmetrics) (1.3.0)\n"
     ]
    },
    {
     "name": "stderr",
     "output_type": "stream",
     "text": [
      "\n",
      "[notice] A new release of pip is available: 23.2.1 -> 24.0\n",
      "[notice] To update, run: python.exe -m pip install --upgrade pip\n"
     ]
    },
    {
     "name": "stdout",
     "output_type": "stream",
     "text": [
      "Requirement already satisfied: scikit-learn in c:\\users\\krishna chavan\\appdata\\local\\programs\\python\\python312\\lib\\site-packages (1.4.1.post1)\n",
      "Requirement already satisfied: numpy<2.0,>=1.19.5 in c:\\users\\krishna chavan\\appdata\\local\\programs\\python\\python312\\lib\\site-packages (from scikit-learn) (1.26.3)\n",
      "Requirement already satisfied: scipy>=1.6.0 in c:\\users\\krishna chavan\\appdata\\local\\programs\\python\\python312\\lib\\site-packages (from scikit-learn) (1.12.0)\n",
      "Requirement already satisfied: joblib>=1.2.0 in c:\\users\\krishna chavan\\appdata\\local\\programs\\python\\python312\\lib\\site-packages (from scikit-learn) (1.3.2)\n",
      "Requirement already satisfied: threadpoolctl>=2.0.0 in c:\\users\\krishna chavan\\appdata\\local\\programs\\python\\python312\\lib\\site-packages (from scikit-learn) (3.3.0)\n"
     ]
    },
    {
     "name": "stderr",
     "output_type": "stream",
     "text": [
      "\n",
      "[notice] A new release of pip is available: 23.2.1 -> 24.0\n",
      "[notice] To update, run: python.exe -m pip install --upgrade pip\n"
     ]
    },
    {
     "name": "stdout",
     "output_type": "stream",
     "text": [
      "Requirement already satisfied: torchsummary in c:\\users\\krishna chavan\\appdata\\local\\programs\\python\\python312\\lib\\site-packages (1.5.1)\n"
     ]
    },
    {
     "name": "stderr",
     "output_type": "stream",
     "text": [
      "\n",
      "[notice] A new release of pip is available: 23.2.1 -> 24.0\n",
      "[notice] To update, run: python.exe -m pip install --upgrade pip\n"
     ]
    }
   ],
   "source": [
    "!pip install matplotlib\n",
    "!pip install numpy\n",
    "!pip install pandas\n",
    "!pip install seaborn\n",
    "!pip install torch\n",
    "!pip install torchvision\n",
    "!pip install torchinfo\n",
    "!pip install torchmetrics\n",
    "!pip install scikit-learn\n",
    "!pip install torchsummary"
   ]
  },
  {
   "cell_type": "code",
   "execution_count": null,
   "id": "10df40a7-038b-4340-b6c8-a79f03e8bb50",
   "metadata": {},
   "outputs": [],
   "source": []
  },
  {
   "cell_type": "code",
   "execution_count": 3,
   "id": "0f195aee-7bee-4c32-9f79-157468b4cfea",
   "metadata": {},
   "outputs": [],
   "source": [
    "# Importing Required Libraries\n",
    "import time\n",
    "import torch\n",
    "import torch.nn as nn\n",
    "import torch.optim as optim\n",
    "import matplotlib.pyplot as plt\n",
    "import seaborn as sns\n",
    "import numpy as np\n",
    "import torchvision\n",
    "from torchvision import datasets, transforms\n",
    "from torch.utils.data import Subset, DataLoader, random_split\n",
    "from torchvision.datasets import ImageFolder\n",
    "from torchsummary import summary\n",
    "from sklearn.metrics import confusion_matrix, precision_recall_fscore_support, roc_curve, auc\n",
    "from torchmetrics import Accuracy\n",
    "from torch.optim.lr_scheduler import StepLR"
   ]
  },
  {
   "cell_type": "code",
   "execution_count": 27,
   "id": "47b29399-74d1-4f88-84fe-1102f005d995",
   "metadata": {},
   "outputs": [],
   "source": [
    "transform_all = transforms.Compose([\n",
    "    transforms.Resize((32, 32)),                  # Transforming Images to 224px size\n",
    "    # transforms.Grayscale(num_output_channels=1),    # output sizr too small error got resolved with this line\n",
    "    transforms.ToTensor(),                          # Converting images to tensor format\n",
    "    transforms.Normalize((0.5,), (0.5,))            # Normalizing images to mean of 0.5 and std = 0.5\n",
    "])\n",
    "\n",
    "dataset = ImageFolder(\"cnn_dataset\", transform=transform_all)"
   ]
  },
  {
   "cell_type": "code",
   "execution_count": 28,
   "id": "f8d944f9-369a-4448-833c-09ec12715568",
   "metadata": {},
   "outputs": [
    {
     "name": "stdout",
     "output_type": "stream",
     "text": [
      "21000 4500 4500\n"
     ]
    }
   ],
   "source": [
    "total_size = len(dataset)                       # Assigning the length of dataset to total_size\n",
    "\n",
    "# Assigning ratios of training, validation and testing to 0.7, 0.15, 0.15 respectively.\n",
    "train_size = int(0.70 * total_size)\n",
    "val_size = int(0.15 * total_size)\n",
    "#test_size = total_size - train_size - val_size\n",
    "test_size = int(0.15 * total_size)\n",
    "\n",
    "#Using random split function for splitting task\n",
    "train_dataset, val_dataset, test_dataset = random_split(\n",
    "    dataset, [train_size, val_size, test_size]\n",
    ")\n",
    "\n",
    "print(len(train_dataset), len(val_dataset), len(test_dataset))\n",
    "\n",
    "# Using Dataloader to load training, validation and testing dataset\n",
    "train_loader = DataLoader(train_dataset, batch_size=128, shuffle=True, num_workers=2)    # Dataloader for training purpose\n",
    "val_loader = DataLoader(val_dataset, batch_size=64, shuffle=True, num_workers=2)       # Dataloader for validation purpose\n",
    "test_loader = DataLoader(test_dataset, batch_size=64, shuffle=False, num_workers=2)     # Dataloader for testing purpose"
   ]
  },
  {
   "cell_type": "code",
   "execution_count": null,
   "id": "bf367967-be0e-41c0-afa4-c2fc45f5912c",
   "metadata": {},
   "outputs": [],
   "source": []
  },
  {
   "cell_type": "code",
   "execution_count": 45,
   "id": "57b7314c-c593-4682-aeb9-c23c3a000d11",
   "metadata": {},
   "outputs": [],
   "source": [
    "\n",
    "\n",
    "# class ResNet18(nn.Module):\n",
    "#     def __init__(self, num_classes=3):\n",
    "#         super(ResNet18, self).__init__()\n",
    "#         self.conv1 = nn.Conv2d(3, 64, kernel_size=7, stride=2, padding=3)\n",
    "#         self.bn1 = nn.BatchNorm2d(64)\n",
    "#         self.relu = nn.ReLU(inplace=True)\n",
    "#         self.maxpool = nn.MaxPool2d(kernel_size=3, stride=2, padding=1)\n",
    "\n",
    "#         self.conv2 = nn.Conv2d(64, 64, kernel_size=3, stride=1, padding=1, bias=False)\n",
    "#         self.bn2 = nn.BatchNorm2d(64)\n",
    "#         self.relu = nn.ReLU(inplace=True)\n",
    "#         self.conv3 = nn.Conv2d(64, 64, kernel_size=3, stride=1, padding=1, bias=False)\n",
    "#         self.bn3 = nn.BatchNorm2d(64)\n",
    "#         self.conv4 = nn.Conv2d(64, 64, kernel_size=3, stride=1, padding=1, bias=False)\n",
    "#         self.bn4 = nn.BatchNorm2d(64)\n",
    "#         self.relu = nn.ReLU(inplace=True)\n",
    "#         self.conv5 = nn.Conv2d(64, 64, kernel_size=3, stride=1, padding=1, bias=False)\n",
    "#         self.bn5 = nn.BatchNorm2d(64)\n",
    "\n",
    "#         self.conv6 = nn.Conv2d(64, 128, kernel_size=3, stride=2, padding=1, bias=False)\n",
    "#         self.bn6 = nn.BatchNorm2d(128)\n",
    "#         self.relu = nn.ReLU(inplace=True)\n",
    "#         self.conv7 = nn.Conv2d(128, 128, kernel_size=3, stride=2, padding=1, bias=False)\n",
    "#         self.bn7 = nn.BatchNorm2d(128)\n",
    "#         self.sequential1 =  nn.Sequential(\n",
    "#                 nn.Conv2d(128, 128, kernel_size=1, stride=2, bias=False),\n",
    "#                 nn.BatchNorm2d(128)\n",
    "#             )\n",
    "#         self.conv8 = nn.Conv2d(128, 128, kernel_size=3, stride=2, padding=1, bias=False)\n",
    "#         self.bn8 = nn.BatchNorm2d(128)\n",
    "#         self.relu = nn.ReLU(inplace=True)\n",
    "#         self.conv9 = nn.Conv2d(128, 128, kernel_size=3, stride=2, padding=1, bias=False)\n",
    "#         self.bn9 = nn.BatchNorm2d(128)\n",
    "#         self.sequential2 =  nn.Sequential(\n",
    "#                 nn.Conv2d(128, 128, kernel_size=1, stride=2, bias=False),\n",
    "#                 nn.BatchNorm2d(128)\n",
    "#             )\n",
    "\n",
    "#         self.conv10 = nn.Conv2d(128, 256, kernel_size=3, stride=2, padding=1, bias=False)\n",
    "#         self.bn10 = nn.BatchNorm2d(256)\n",
    "#         self.relu = nn.ReLU(inplace=True)\n",
    "#         self.conv11 = nn.Conv2d(256, 256, kernel_size=3, stride=2, padding=1, bias=False)\n",
    "#         self.bn11 = nn.BatchNorm2d(256)\n",
    "#         self.sequential3 =  nn.Sequential(\n",
    "#                 nn.Conv2d(256, 256, kernel_size=1, stride=2, bias=False),\n",
    "#                 nn.BatchNorm2d(256)\n",
    "#             )\n",
    "#         self.conv12 = nn.Conv2d(256, 256, kernel_size=3, stride=2, padding=1, bias=False)\n",
    "#         self.bn12 = nn.BatchNorm2d(256)\n",
    "#         self.relu = nn.ReLU(inplace=True)\n",
    "#         self.conv13 = nn.Conv2d(256, 256, kernel_size=3, stride=2, padding=1, bias=False)\n",
    "#         self.bn13 = nn.BatchNorm2d(256)\n",
    "#         self.sequential4 =  nn.Sequential(\n",
    "#                 nn.Conv2d(256, 256, kernel_size=1, stride=2, bias=False),\n",
    "#                 nn.BatchNorm2d(256)\n",
    "#             )\n",
    "\n",
    "#         self.conv14 = nn.Conv2d(256, 512, kernel_size=3, stride=2, padding=1, bias=False)\n",
    "#         self.bn14 = nn.BatchNorm2d(512)\n",
    "#         self.relu = nn.ReLU(inplace=True)\n",
    "#         self.conv15 = nn.Conv2d(512, 512, kernel_size=3, stride=2, padding=1, bias=False)\n",
    "#         self.bn15 = nn.BatchNorm2d(512)\n",
    "#         self.sequential5 =  nn.Sequential(\n",
    "#                 nn.Conv2d(512, 512, kernel_size=1, stride=2, bias=False),\n",
    "#                 nn.BatchNorm2d(512)\n",
    "#             )\n",
    "#         self.conv16 = nn.Conv2d(512, 512, kernel_size=3, stride=2, padding=1, bias=False)\n",
    "#         self.bn16 = nn.BatchNorm2d(512)\n",
    "#         self.relu = nn.ReLU(inplace=True)\n",
    "#         self.conv17 = nn.Conv2d(512, 512, kernel_size=3, stride=2, padding=1, bias=False)\n",
    "#         self.bn17 = nn.BatchNorm2d(512)\n",
    "#         self.sequential5 =  nn.Sequential(\n",
    "#                 nn.Conv2d(512, 512, kernel_size=1, stride=2, bias=False),\n",
    "#                 nn.BatchNorm2d(512)\n",
    "#             )\n",
    "\n",
    "#         self.avgpool = nn.AdaptiveAvgPool2d((1, 1))\n",
    "#         self.fc = nn.Linear(512, 3)\n",
    "\n"
   ]
  },
  {
   "cell_type": "code",
   "execution_count": null,
   "id": "309f8c19-d590-4232-b675-4b7533e69586",
   "metadata": {},
   "outputs": [],
   "source": []
  },
  {
   "cell_type": "code",
   "execution_count": 74,
   "id": "ae37de7a-5b25-43f7-af2d-4f0c47d3a51a",
   "metadata": {},
   "outputs": [],
   "source": [
    "class ResidualBlock(nn.Module):\n",
    "    def __init__(self, in_channels, out_channels, stride=1):\n",
    "        super(ResidualBlock, self).__init__()\n",
    "        self.conv1 = nn.Conv2d(in_channels, out_channels, kernel_size=3, stride=stride, padding=1)\n",
    "        self.bn1 = nn.BatchNorm2d(out_channels)\n",
    "        self.relu = nn.ReLU(inplace=True)\n",
    "        self.conv2 = nn.Conv2d(out_channels, out_channels, kernel_size=3, stride=1, padding=1)\n",
    "        self.bn2 = nn.BatchNorm2d(out_channels)\n",
    "        if stride != 1 or in_channels != out_channels:\n",
    "            self.sequential = nn.Sequential(\n",
    "                nn.Conv2d(in_channels, out_channels, kernel_size=1, stride=stride),\n",
    "                nn.BatchNorm2d(out_channels)\n",
    "            ) \n",
    "        else: self.sequential = None\n",
    "\n",
    "    def forward(self, x):\n",
    "        res = self.relu(self.bn1(self.conv1(x)))\n",
    "        res = self.bn2(self.conv2(res))\n",
    "        if self.sequential: x = self.sequential(x) \n",
    "        res = res + x\n",
    "        res = self.relu(res)\n",
    "        return res\n",
    "\n",
    "class ResNet18(nn.Module):\n",
    "    def __init__(self, num_classes=3):\n",
    "        super(ResNet18, self).__init__()\n",
    "        self.conv1 = nn.Conv2d(3, 64, kernel_size=7, stride=2, padding=3, bias=False)\n",
    "        self.bn1 = nn.BatchNorm2d(64)\n",
    "        self.relu = nn.ReLU(inplace=True)\n",
    "        self.maxpool = nn.MaxPool2d(kernel_size=3, stride=2, padding=1)\n",
    "        self.layer1 = self.layer_blocks(ResidualBlock, 64, 64, 2)\n",
    "        self.layer2 = self.layer_blocks(ResidualBlock, 64, 128, 2, stride=2)\n",
    "        self.layer3 = self.layer_blocks(ResidualBlock, 128, 256, 2, stride=2)\n",
    "        self.layer4 = self.layer_blocks(ResidualBlock, 256, 512, 2, stride=2)\n",
    "        self.avgpool = nn.AdaptiveAvgPool2d((1, 1))\n",
    "        self.fc = nn.Linear(512, num_classes)\n",
    "\n",
    "    def layer_blocks(self, block, in_channels, out_channels, no_of_blocks, stride=1):\n",
    "        layers_block = []\n",
    "        layers_block.append(block(in_channels, out_channels, stride))\n",
    "        for i in range(0, no_of_blocks - 1):\n",
    "            layers_block.append(block(out_channels, out_channels))\n",
    "        return nn.Sequential(*layers_block)\n",
    "\n",
    "    def forward(self, x):\n",
    "        x = self.relu(self.bn1(self.conv1(x)))\n",
    "        x = self.maxpool(x)\n",
    "        x = self.layer1(x)\n",
    "        x = self.layer2(x)\n",
    "        x = self.layer3(x)\n",
    "        x = self.layer4(x)\n",
    "        x = self.avgpool(x)\n",
    "        x = torch.flatten(x, 1)\n",
    "        x = self.fc(x)\n",
    "        return x\n",
    "\n",
    "# Create ResNet18 model\n",
    "model = ResNet18()"
   ]
  },
  {
   "cell_type": "code",
   "execution_count": 75,
   "id": "d89748e8-560d-40f5-ae3f-91633ea534a0",
   "metadata": {},
   "outputs": [
    {
     "data": {
      "text/plain": [
       "ResNet18(\n",
       "  (conv1): Conv2d(3, 64, kernel_size=(7, 7), stride=(2, 2), padding=(3, 3), bias=False)\n",
       "  (bn1): BatchNorm2d(64, eps=1e-05, momentum=0.1, affine=True, track_running_stats=True)\n",
       "  (relu): ReLU(inplace=True)\n",
       "  (maxpool): MaxPool2d(kernel_size=3, stride=2, padding=1, dilation=1, ceil_mode=False)\n",
       "  (layer1): Sequential(\n",
       "    (0): ResidualBlock(\n",
       "      (conv1): Conv2d(64, 64, kernel_size=(3, 3), stride=(1, 1), padding=(1, 1))\n",
       "      (bn1): BatchNorm2d(64, eps=1e-05, momentum=0.1, affine=True, track_running_stats=True)\n",
       "      (relu): ReLU(inplace=True)\n",
       "      (conv2): Conv2d(64, 64, kernel_size=(3, 3), stride=(1, 1), padding=(1, 1))\n",
       "      (bn2): BatchNorm2d(64, eps=1e-05, momentum=0.1, affine=True, track_running_stats=True)\n",
       "    )\n",
       "    (1): ResidualBlock(\n",
       "      (conv1): Conv2d(64, 64, kernel_size=(3, 3), stride=(1, 1), padding=(1, 1))\n",
       "      (bn1): BatchNorm2d(64, eps=1e-05, momentum=0.1, affine=True, track_running_stats=True)\n",
       "      (relu): ReLU(inplace=True)\n",
       "      (conv2): Conv2d(64, 64, kernel_size=(3, 3), stride=(1, 1), padding=(1, 1))\n",
       "      (bn2): BatchNorm2d(64, eps=1e-05, momentum=0.1, affine=True, track_running_stats=True)\n",
       "    )\n",
       "  )\n",
       "  (layer2): Sequential(\n",
       "    (0): ResidualBlock(\n",
       "      (conv1): Conv2d(64, 128, kernel_size=(3, 3), stride=(2, 2), padding=(1, 1))\n",
       "      (bn1): BatchNorm2d(128, eps=1e-05, momentum=0.1, affine=True, track_running_stats=True)\n",
       "      (relu): ReLU(inplace=True)\n",
       "      (conv2): Conv2d(128, 128, kernel_size=(3, 3), stride=(1, 1), padding=(1, 1))\n",
       "      (bn2): BatchNorm2d(128, eps=1e-05, momentum=0.1, affine=True, track_running_stats=True)\n",
       "      (sequential): Sequential(\n",
       "        (0): Conv2d(64, 128, kernel_size=(1, 1), stride=(2, 2))\n",
       "        (1): BatchNorm2d(128, eps=1e-05, momentum=0.1, affine=True, track_running_stats=True)\n",
       "      )\n",
       "    )\n",
       "    (1): ResidualBlock(\n",
       "      (conv1): Conv2d(128, 128, kernel_size=(3, 3), stride=(1, 1), padding=(1, 1))\n",
       "      (bn1): BatchNorm2d(128, eps=1e-05, momentum=0.1, affine=True, track_running_stats=True)\n",
       "      (relu): ReLU(inplace=True)\n",
       "      (conv2): Conv2d(128, 128, kernel_size=(3, 3), stride=(1, 1), padding=(1, 1))\n",
       "      (bn2): BatchNorm2d(128, eps=1e-05, momentum=0.1, affine=True, track_running_stats=True)\n",
       "    )\n",
       "  )\n",
       "  (layer3): Sequential(\n",
       "    (0): ResidualBlock(\n",
       "      (conv1): Conv2d(128, 256, kernel_size=(3, 3), stride=(2, 2), padding=(1, 1))\n",
       "      (bn1): BatchNorm2d(256, eps=1e-05, momentum=0.1, affine=True, track_running_stats=True)\n",
       "      (relu): ReLU(inplace=True)\n",
       "      (conv2): Conv2d(256, 256, kernel_size=(3, 3), stride=(1, 1), padding=(1, 1))\n",
       "      (bn2): BatchNorm2d(256, eps=1e-05, momentum=0.1, affine=True, track_running_stats=True)\n",
       "      (sequential): Sequential(\n",
       "        (0): Conv2d(128, 256, kernel_size=(1, 1), stride=(2, 2))\n",
       "        (1): BatchNorm2d(256, eps=1e-05, momentum=0.1, affine=True, track_running_stats=True)\n",
       "      )\n",
       "    )\n",
       "    (1): ResidualBlock(\n",
       "      (conv1): Conv2d(256, 256, kernel_size=(3, 3), stride=(1, 1), padding=(1, 1))\n",
       "      (bn1): BatchNorm2d(256, eps=1e-05, momentum=0.1, affine=True, track_running_stats=True)\n",
       "      (relu): ReLU(inplace=True)\n",
       "      (conv2): Conv2d(256, 256, kernel_size=(3, 3), stride=(1, 1), padding=(1, 1))\n",
       "      (bn2): BatchNorm2d(256, eps=1e-05, momentum=0.1, affine=True, track_running_stats=True)\n",
       "    )\n",
       "  )\n",
       "  (layer4): Sequential(\n",
       "    (0): ResidualBlock(\n",
       "      (conv1): Conv2d(256, 512, kernel_size=(3, 3), stride=(2, 2), padding=(1, 1))\n",
       "      (bn1): BatchNorm2d(512, eps=1e-05, momentum=0.1, affine=True, track_running_stats=True)\n",
       "      (relu): ReLU(inplace=True)\n",
       "      (conv2): Conv2d(512, 512, kernel_size=(3, 3), stride=(1, 1), padding=(1, 1))\n",
       "      (bn2): BatchNorm2d(512, eps=1e-05, momentum=0.1, affine=True, track_running_stats=True)\n",
       "      (sequential): Sequential(\n",
       "        (0): Conv2d(256, 512, kernel_size=(1, 1), stride=(2, 2))\n",
       "        (1): BatchNorm2d(512, eps=1e-05, momentum=0.1, affine=True, track_running_stats=True)\n",
       "      )\n",
       "    )\n",
       "    (1): ResidualBlock(\n",
       "      (conv1): Conv2d(512, 512, kernel_size=(3, 3), stride=(1, 1), padding=(1, 1))\n",
       "      (bn1): BatchNorm2d(512, eps=1e-05, momentum=0.1, affine=True, track_running_stats=True)\n",
       "      (relu): ReLU(inplace=True)\n",
       "      (conv2): Conv2d(512, 512, kernel_size=(3, 3), stride=(1, 1), padding=(1, 1))\n",
       "      (bn2): BatchNorm2d(512, eps=1e-05, momentum=0.1, affine=True, track_running_stats=True)\n",
       "    )\n",
       "  )\n",
       "  (avgpool): AdaptiveAvgPool2d(output_size=(1, 1))\n",
       "  (fc): Linear(in_features=512, out_features=3, bias=True)\n",
       ")"
      ]
     },
     "execution_count": 75,
     "metadata": {},
     "output_type": "execute_result"
    }
   ],
   "source": [
    "model"
   ]
  },
  {
   "cell_type": "code",
   "execution_count": null,
   "id": "a6075c24-696c-4445-93ad-f46f17b07907",
   "metadata": {},
   "outputs": [],
   "source": []
  },
  {
   "cell_type": "code",
   "execution_count": 76,
   "id": "af17040f-35d4-4b56-a149-1096695e0c3b",
   "metadata": {},
   "outputs": [
    {
     "name": "stdout",
     "output_type": "stream",
     "text": [
      "----------------------------------------------------------------\n",
      "        Layer (type)               Output Shape         Param #\n",
      "================================================================\n",
      "            Conv2d-1           [-1, 64, 32, 32]           9,408\n",
      "       BatchNorm2d-2           [-1, 64, 32, 32]             128\n",
      "              ReLU-3           [-1, 64, 32, 32]               0\n",
      "         MaxPool2d-4           [-1, 64, 16, 16]               0\n",
      "            Conv2d-5           [-1, 64, 16, 16]          36,928\n",
      "       BatchNorm2d-6           [-1, 64, 16, 16]             128\n",
      "              ReLU-7           [-1, 64, 16, 16]               0\n",
      "            Conv2d-8           [-1, 64, 16, 16]          36,928\n",
      "       BatchNorm2d-9           [-1, 64, 16, 16]             128\n",
      "             ReLU-10           [-1, 64, 16, 16]               0\n",
      "    ResidualBlock-11           [-1, 64, 16, 16]               0\n",
      "           Conv2d-12           [-1, 64, 16, 16]          36,928\n",
      "      BatchNorm2d-13           [-1, 64, 16, 16]             128\n",
      "             ReLU-14           [-1, 64, 16, 16]               0\n",
      "           Conv2d-15           [-1, 64, 16, 16]          36,928\n",
      "      BatchNorm2d-16           [-1, 64, 16, 16]             128\n",
      "             ReLU-17           [-1, 64, 16, 16]               0\n",
      "    ResidualBlock-18           [-1, 64, 16, 16]               0\n",
      "           Conv2d-19            [-1, 128, 8, 8]          73,856\n",
      "      BatchNorm2d-20            [-1, 128, 8, 8]             256\n",
      "             ReLU-21            [-1, 128, 8, 8]               0\n",
      "           Conv2d-22            [-1, 128, 8, 8]         147,584\n",
      "      BatchNorm2d-23            [-1, 128, 8, 8]             256\n",
      "           Conv2d-24            [-1, 128, 8, 8]           8,320\n",
      "      BatchNorm2d-25            [-1, 128, 8, 8]             256\n",
      "             ReLU-26            [-1, 128, 8, 8]               0\n",
      "    ResidualBlock-27            [-1, 128, 8, 8]               0\n",
      "           Conv2d-28            [-1, 128, 8, 8]         147,584\n",
      "      BatchNorm2d-29            [-1, 128, 8, 8]             256\n",
      "             ReLU-30            [-1, 128, 8, 8]               0\n",
      "           Conv2d-31            [-1, 128, 8, 8]         147,584\n",
      "      BatchNorm2d-32            [-1, 128, 8, 8]             256\n",
      "             ReLU-33            [-1, 128, 8, 8]               0\n",
      "    ResidualBlock-34            [-1, 128, 8, 8]               0\n",
      "           Conv2d-35            [-1, 256, 4, 4]         295,168\n",
      "      BatchNorm2d-36            [-1, 256, 4, 4]             512\n",
      "             ReLU-37            [-1, 256, 4, 4]               0\n",
      "           Conv2d-38            [-1, 256, 4, 4]         590,080\n",
      "      BatchNorm2d-39            [-1, 256, 4, 4]             512\n",
      "           Conv2d-40            [-1, 256, 4, 4]          33,024\n",
      "      BatchNorm2d-41            [-1, 256, 4, 4]             512\n",
      "             ReLU-42            [-1, 256, 4, 4]               0\n",
      "    ResidualBlock-43            [-1, 256, 4, 4]               0\n",
      "           Conv2d-44            [-1, 256, 4, 4]         590,080\n",
      "      BatchNorm2d-45            [-1, 256, 4, 4]             512\n",
      "             ReLU-46            [-1, 256, 4, 4]               0\n",
      "           Conv2d-47            [-1, 256, 4, 4]         590,080\n",
      "      BatchNorm2d-48            [-1, 256, 4, 4]             512\n",
      "             ReLU-49            [-1, 256, 4, 4]               0\n",
      "    ResidualBlock-50            [-1, 256, 4, 4]               0\n",
      "           Conv2d-51            [-1, 512, 2, 2]       1,180,160\n",
      "      BatchNorm2d-52            [-1, 512, 2, 2]           1,024\n",
      "             ReLU-53            [-1, 512, 2, 2]               0\n",
      "           Conv2d-54            [-1, 512, 2, 2]       2,359,808\n",
      "      BatchNorm2d-55            [-1, 512, 2, 2]           1,024\n",
      "           Conv2d-56            [-1, 512, 2, 2]         131,584\n",
      "      BatchNorm2d-57            [-1, 512, 2, 2]           1,024\n",
      "             ReLU-58            [-1, 512, 2, 2]               0\n",
      "    ResidualBlock-59            [-1, 512, 2, 2]               0\n",
      "           Conv2d-60            [-1, 512, 2, 2]       2,359,808\n",
      "      BatchNorm2d-61            [-1, 512, 2, 2]           1,024\n",
      "             ReLU-62            [-1, 512, 2, 2]               0\n",
      "           Conv2d-63            [-1, 512, 2, 2]       2,359,808\n",
      "      BatchNorm2d-64            [-1, 512, 2, 2]           1,024\n",
      "             ReLU-65            [-1, 512, 2, 2]               0\n",
      "    ResidualBlock-66            [-1, 512, 2, 2]               0\n",
      "AdaptiveAvgPool2d-67            [-1, 512, 1, 1]               0\n",
      "           Linear-68                    [-1, 3]           1,539\n",
      "================================================================\n",
      "Total params: 11,182,787\n",
      "Trainable params: 11,182,787\n",
      "Non-trainable params: 0\n",
      "----------------------------------------------------------------\n",
      "Input size (MB): 0.05\n",
      "Forward/backward pass size (MB): 5.13\n",
      "Params size (MB): 42.66\n",
      "Estimated Total Size (MB): 47.83\n",
      "----------------------------------------------------------------\n"
     ]
    }
   ],
   "source": [
    "summary(model, (3, 64, 64))"
   ]
  },
  {
   "cell_type": "code",
   "execution_count": 71,
   "id": "8892af48-2293-4d5e-b795-082f07c0081a",
   "metadata": {},
   "outputs": [],
   "source": [
    "criterion = nn.CrossEntropyLoss()                                   # Defining the loss using CrossEntropyLoss\n",
    "optimizer = optim.Adam(model.parameters(), lr=0.05)    # Taking learning rate as 0.01 and meomentum = 0.9\n",
    "# scheduler = StepLR(optimizer, step_size=10, gamma=0.1)\n",
    "num_epochs = 5                                                      # no of epochs\n",
    "accuracy = Accuracy(num_classes=3, task='multiclass')"
   ]
  },
  {
   "cell_type": "code",
   "execution_count": 72,
   "id": "12ffaa4f-5b8a-44d8-b366-668f96f6d722",
   "metadata": {},
   "outputs": [],
   "source": [
    "def train(epoch):\n",
    "    correct_train = 0\n",
    "    model.train()\n",
    "    train_loss = 0\n",
    "    for batch_idx, (data, target) in enumerate(train_loader):\n",
    "        optimizer.zero_grad()\n",
    "        output = model(data)\n",
    "        loss = criterion(output, target)\n",
    "        loss.backward()\n",
    "        train_loss += loss.item()\n",
    "        optimizer.step()\n",
    "        pred_train = output.argmax(dim=1, keepdim=True)\n",
    "        correct_train += pred_train.eq(target.view_as(pred_train)).sum().item()\n",
    "        if batch_idx % 100 == 0:\n",
    "            print(f'Train Epoch: {epoch} [{batch_idx * len(data)}/{len(train_loader.dataset)} ({100. * batch_idx / len(train_loader):.0f}%)]\\tLoss: {loss.item():.6f}')\n",
    "    train_loss = train_loss / len(train_loader)\n",
    "    train_accuracy = 100. * correct_train / len(train_loader.dataset)\n",
    "    return train_loss, train_accuracy"
   ]
  },
  {
   "cell_type": "code",
   "execution_count": 73,
   "id": "3079c766-9933-43b2-8d32-eda4fc16800e",
   "metadata": {
    "scrolled": true
   },
   "outputs": [
    {
     "name": "stdout",
     "output_type": "stream",
     "text": [
      "Train Epoch: 1 [0/21000 (0%)]\tLoss: 1.215871\n",
      "Train Epoch: 1 [12800/21000 (61%)]\tLoss: 0.704043\n",
      "Train Epoch: 1 \tTrain_Loss: 0.949976\tTrain_accuracy: 68.43\n",
      "Time taken by epoch to train,  91.40877556800842\n",
      "Train Epoch: 2 [0/21000 (0%)]\tLoss: 0.656400\n",
      "Train Epoch: 2 [12800/21000 (61%)]\tLoss: 0.471281\n",
      "Train Epoch: 2 \tTrain_Loss: 0.618294\tTrain_accuracy: 76.92\n",
      "Time taken by epoch to train,  76.97074031829834\n",
      "Train Epoch: 3 [0/21000 (0%)]\tLoss: 0.612977\n",
      "Train Epoch: 3 [12800/21000 (61%)]\tLoss: 0.402327\n",
      "Train Epoch: 3 \tTrain_Loss: 0.493251\tTrain_accuracy: 80.91\n",
      "Time taken by epoch to train,  73.17142701148987\n",
      "Train Epoch: 4 [0/21000 (0%)]\tLoss: 0.443004\n",
      "Train Epoch: 4 [12800/21000 (61%)]\tLoss: 0.339951\n",
      "Train Epoch: 4 \tTrain_Loss: 0.418111\tTrain_accuracy: 83.92\n",
      "Time taken by epoch to train,  75.94834876060486\n",
      "Train Epoch: 5 [0/21000 (0%)]\tLoss: 0.480086\n",
      "Train Epoch: 5 [12800/21000 (61%)]\tLoss: 0.321991\n",
      "Train Epoch: 5 \tTrain_Loss: 0.376575\tTrain_accuracy: 85.41\n",
      "Time taken by epoch to train,  77.70701217651367\n"
     ]
    }
   ],
   "source": [
    "training_acc = []\n",
    "training_loss = []\n",
    "for epoch in range(1, num_epochs + 1):\n",
    "    start_time = time.time()\n",
    "    train_loss, train_accuracy = train(epoch)\n",
    "    training_acc.append(train_accuracy)\n",
    "    training_loss.append(train_loss)\n",
    "    print(f'Train Epoch: {epoch} \\tTrain_Loss: {train_loss:.6f}\\tTrain_accuracy: {train_accuracy:.2f}')\n",
    "    end_time = time.time()\n",
    "    print(\"Time taken by epoch to train, \", end_time - start_time)"
   ]
  },
  {
   "cell_type": "code",
   "execution_count": 64,
   "id": "149ca0e9-7122-4493-aa8b-9eb5efe2bac5",
   "metadata": {},
   "outputs": [],
   "source": [
    "def validate():\n",
    "    model.eval()\n",
    "    running_loss = 0.0\n",
    "    correct = 0\n",
    "    total = 0\n",
    "    with torch.no_grad():\n",
    "        for inputs, labels in val_loader:\n",
    "            outputs = model(inputs)\n",
    "            loss = criterion(outputs, labels)\n",
    "            running_loss += loss.item() * inputs.size(0)\n",
    "            _, predicted = torch.max(outputs, 1)\n",
    "            correct += (predicted == labels).sum().item()\n",
    "            total += labels.size(0)\n",
    "    val_loss = running_loss / len(val_loader.dataset)\n",
    "    val_acc = correct / total\n",
    "    return val_loss, val_acc"
   ]
  },
  {
   "cell_type": "code",
   "execution_count": 65,
   "id": "9aea1a05-7e87-4d1c-9257-14f13ec6f56a",
   "metadata": {},
   "outputs": [
    {
     "name": "stdout",
     "output_type": "stream",
     "text": [
      "Val Epoch: 0 Val_Loss: 0.418243 Val_accuracy: 0.83\n",
      "Time taken by epoch to validate,  11.900352716445923\n",
      "Val Epoch: 1 Val_Loss: 0.418243 Val_accuracy: 0.83\n",
      "Time taken by epoch to validate,  12.129380464553833\n",
      "Val Epoch: 2 Val_Loss: 0.418243 Val_accuracy: 0.83\n",
      "Time taken by epoch to validate,  13.169442415237427\n",
      "Val Epoch: 3 Val_Loss: 0.418243 Val_accuracy: 0.83\n",
      "Time taken by epoch to validate,  14.966203927993774\n",
      "Val Epoch: 4 Val_Loss: 0.418243 Val_accuracy: 0.83\n",
      "Time taken by epoch to validate,  13.594209432601929\n"
     ]
    }
   ],
   "source": [
    "validation_accuracy = []\n",
    "validation_loss = []\n",
    "for epoch in range(num_epochs):\n",
    "    start_time = time.time()\n",
    "    val_loss, val_acc = validate()\n",
    "    validation_loss.append(val_loss)\n",
    "    validation_accuracy.append(val_acc)\n",
    "    print(f'Val Epoch: {epoch} Val_Loss: {val_loss:.6f} Val_accuracy: {val_acc:.2f}')\n",
    "    end_time = time.time()\n",
    "    print(\"Time taken by epoch to validate, \", end_time - start_time)"
   ]
  },
  {
   "cell_type": "code",
   "execution_count": 50,
   "id": "86c8dc13-aebd-4fee-b414-6f33474ba6a9",
   "metadata": {},
   "outputs": [
    {
     "name": "stdout",
     "output_type": "stream",
     "text": [
      "Epoch 1/5,Validation Loss: 0.2689, Validation Accuracy: 0.9011\n",
      "Epoch 2/5,Validation Loss: 0.2689, Validation Accuracy: 0.9011\n",
      "Epoch 3/5,Validation Loss: 0.2689, Validation Accuracy: 0.9011\n",
      "Epoch 4/5,Validation Loss: 0.2689, Validation Accuracy: 0.9011\n",
      "Epoch 5/5,Validation Loss: 0.2689, Validation Accuracy: 0.9011\n"
     ]
    }
   ],
   "source": [
    "validation_accuracy = []\n",
    "validation_loss = []\n",
    "\n",
    "for epoch in range(num_epochs):\n",
    "    model.eval()\n",
    "    val_running_loss = 0.0\n",
    "    val_total_correct = 0\n",
    "    val_total_samples = 0\n",
    "    with torch.no_grad():\n",
    "        for images, labels in val_loader:\n",
    "            outputs = model(images)\n",
    "            # labels = torch.squeeze(labels, dim=1)\n",
    "            loss = criterion(outputs, labels)\n",
    "            val_running_loss += loss.item() * images.size(0)\n",
    "            _, predicted = torch.max(outputs, 1)\n",
    "            val_total_correct += (predicted == labels).sum().item()\n",
    "            val_total_samples += labels.size(0)\n",
    "\n",
    "        val_loss = val_running_loss / len(val_loader.dataset)\n",
    "        val_accuracy = val_total_correct / val_total_samples\n",
    "        validation_accuracy.append(val_accuracy)\n",
    "        validation_loss.append(val_loss)\n",
    "        print(f\"Epoch {epoch+1}/{num_epochs},Validation Loss: {val_loss:.4f}, Validation Accuracy: {val_accuracy:.4f}\")"
   ]
  },
  {
   "cell_type": "code",
   "execution_count": null,
   "id": "e1d9ccd2-910a-4786-ab7e-d38b98fa25ee",
   "metadata": {},
   "outputs": [],
   "source": []
  },
  {
   "cell_type": "code",
   "execution_count": null,
   "id": "1a9941b4-c968-4965-96d5-f8ecfd7ad39a",
   "metadata": {},
   "outputs": [],
   "source": []
  },
  {
   "cell_type": "code",
   "execution_count": 16,
   "id": "6ab315e1-c954-442d-a30e-38ad215377ee",
   "metadata": {},
   "outputs": [],
   "source": [
    "all_preds_test = []\n",
    "all_corrects_test = []\n",
    "all_probs_test = []\n",
    "\n",
    "def test(epoch):\n",
    "    model.eval()\n",
    "    test_loss = 0.0\n",
    "    global correct_test\n",
    "    global pred_test\n",
    "    correct_test = 0.0\n",
    "    pred_test = 0.0\n",
    "    with torch.no_grad():\n",
    "        for data, target in test_loader:\n",
    "            output = model(data)\n",
    "            test_loss += criterion(output, target).item()\n",
    "            pred_test = torch.max(output, 1)[1]\n",
    "            correct_test += pred_test.eq(target.view_as(pred_test)).sum().item()\n",
    "            all_preds_test.extend(pred_test.numpy() if isinstance(pred_test, torch.Tensor) else [pred_test])\n",
    "            all_corrects_test.extend(target.numpy())\n",
    "\n",
    "            sm = torch.nn.Softmax(dim = 1)\n",
    "            probs = sm(output)\n",
    "            all_probs_test.extend(probs.detach().numpy())\n",
    "\n",
    "    test_loss /= len(test_loader.dataset)\n",
    "    test_accuracy = 100 * correct_test / len(test_loader.dataset)\n",
    "    return test_loss, test_accuracy"
   ]
  },
  {
   "cell_type": "code",
   "execution_count": 17,
   "id": "3d2fdca9-6c7d-4acf-ba56-66899a18fe0b",
   "metadata": {},
   "outputs": [
    {
     "name": "stdout",
     "output_type": "stream",
     "text": [
      "Test Epoch: 1 \tTest_Loss: 0.005741\tTest_accuracy: 86.98\n",
      "Time taken by epoch to train,  43.70065975189209\n",
      "Test Epoch: 2 \tTest_Loss: 0.005741\tTest_accuracy: 86.98\n",
      "Time taken by epoch to train,  14.907192945480347\n",
      "Test Epoch: 3 \tTest_Loss: 0.005741\tTest_accuracy: 86.98\n",
      "Time taken by epoch to train,  15.0861177444458\n",
      "Test Epoch: 4 \tTest_Loss: 0.005741\tTest_accuracy: 86.98\n",
      "Time taken by epoch to train,  19.79180884361267\n",
      "Test Epoch: 5 \tTest_Loss: 0.005741\tTest_accuracy: 86.98\n",
      "Time taken by epoch to train,  21.53354525566101\n"
     ]
    }
   ],
   "source": [
    "testing_acc = []\n",
    "testing_loss = []\n",
    "for epoch in range(1, num_epochs + 1):\n",
    "    start_time = time.time()\n",
    "    test_loss, test_accuracy = test(epoch)\n",
    "    testing_acc.append(test_accuracy)\n",
    "    testing_loss.append(test_loss)\n",
    "    print(f'Test Epoch: {epoch} \\tTest_Loss: {test_loss:.6f}\\tTest_accuracy: {test_accuracy:.2f}')\n",
    "    end_time = time.time()\n",
    "    print(\"Time taken by epoch to train, \", end_time - start_time)"
   ]
  },
  {
   "cell_type": "code",
   "execution_count": 19,
   "id": "527c5338-47f9-49c3-a974-4ecb022edd87",
   "metadata": {},
   "outputs": [],
   "source": [
    "def save_model_weights(model):\n",
    "    \"\"\"\n",
    "    Save the classifier model into .h5 file.\n",
    "    \"\"\"\n",
    "    torch.save(model.state_dict(), 'save.h5')\n",
    "\n",
    "def load_model_weights(model):\n",
    "    \"\"\"\n",
    "    Load the classifier model which we saved above and display the weights\n",
    "    \"\"\"\n",
    "    model.load_state_dict(torch.load('cyeole_kchavan_assignment2_part4.h5'))\n",
    "    for name, param in model.named_parameters():\n",
    "        if param.requires_grad:\n",
    "            print(name, param.data)\n",
    "\n",
    "save_model_weights(model)\n",
    "# load_model_weights(model)"
   ]
  },
  {
   "cell_type": "code",
   "execution_count": null,
   "id": "910feb35-e732-4270-b660-e077a8926fb8",
   "metadata": {},
   "outputs": [],
   "source": []
  }
 ],
 "metadata": {
  "kernelspec": {
   "display_name": "Python 3 (ipykernel)",
   "language": "python",
   "name": "python3"
  },
  "language_info": {
   "codemirror_mode": {
    "name": "ipython",
    "version": 3
   },
   "file_extension": ".py",
   "mimetype": "text/x-python",
   "name": "python",
   "nbconvert_exporter": "python",
   "pygments_lexer": "ipython3",
   "version": "3.12.1"
  }
 },
 "nbformat": 4,
 "nbformat_minor": 5
}
